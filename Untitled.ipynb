{
 "cells": [
  {
   "cell_type": "markdown",
   "id": "0ca2eba0",
   "metadata": {},
   "source": [
    "### Description\n",
    "> ##### Build a Number guessing game, in which the user selects a range.\n",
    "> ##### Let’s say User selected a range, i.e., from A to B, where A and B belong to Integer.\n",
    "> ##### Some random integer will be selected by the system and the user has to guess that integer in the minimum number of guesses"
   ]
  },
  {
   "cell_type": "markdown",
   "id": "c9506521",
   "metadata": {},
   "source": [
    "### Algorithm\n",
    "> #### 1. User inputs the lower bound and upper bound of the range.\n",
    "> #### 2. The compiler generates a random integer between the range and store it in a variable for future references.\n",
    "> #### 3. For repetitive guessing, a while loop will be initialized.\n",
    "> #### 4. If the user guessed a number which is greater than a randomly selected number, the user gets an output “Try Again! You guessed too high“\n",
    "> #### 5. Else If the user guessed a number which is smaller than a randomly selected number, the user gets an output “Try Again! You guessed too small”\n",
    "> #### 6. And if the user guessed in a minimum number of guesses, the user gets a “Congratulations! ” Output.\n",
    "> #### 7. Else if the user didn’t guess the integer in the minimum number of guesses, he/she will get “Better Luck Next Time!” output.\n"
   ]
  },
  {
   "cell_type": "code",
   "execution_count": 12,
   "id": "16c7b89e",
   "metadata": {},
   "outputs": [
    {
     "name": "stdout",
     "output_type": "stream",
     "text": [
      "input lower number : 10\n",
      "input upper number : 18\n",
      "\n",
      "\tYou've only  9  chances to guess the integer!\n",
      "\n"
     ]
    }
   ],
   "source": [
    "import random \n",
    "\n",
    "lower = int(input(\"input lower number : \"))\n",
    "upper = int(input(\"input upper number : \"))\n",
    "\n",
    "x = random.randint(lower , upper)\n",
    "\n",
    "print(\"\\n\\tYou've only \",\n",
    "    round(upper - lower + 1, 2),\n",
    "    \" chances to guess the integer!\\n\")\n",
    "\n",
    "count = 0"
   ]
  },
  {
   "cell_type": "code",
   "execution_count": 13,
   "id": "332cec5a",
   "metadata": {},
   "outputs": [
    {
     "name": "stdout",
     "output_type": "stream",
     "text": [
      "enter your guess12\n",
      "enter a smaller number\n",
      "number is odd\n",
      "enter your guess15\n",
      "enter a smaller number\n",
      "enter your guess19\n",
      "enter a smaller number\n",
      "enter your guess11\n",
      "congrats\n",
      "You have 2 guesses left.\n",
      "\tBetter Luck Next time!\n",
      "Previous guesses: [12, 15, 19]\n"
     ]
    }
   ],
   "source": [
    "guesses_left = 6\n",
    "previous_guesses = []\n",
    "while count < 6:\n",
    "    \n",
    "    count+=1 \n",
    "    guesses_left -=1\n",
    "    guess = int(input(\"enter your guess\"))\n",
    "    \n",
    "    if guess == x :\n",
    "        print(\"congrats\")\n",
    "        break\n",
    "    elif x>guess : \n",
    "        print(\"enter a high number\")\n",
    "    elif x<guess :\n",
    "        print(\"enter a smaller number\")\n",
    "    previous_guesses.append(guess)\n",
    "\n",
    "    # Provide a hint after the user's first incorrect guess\n",
    "    if count == 1 and x != guess:\n",
    "        if x %2 ==0 : \n",
    "            print(\"number is even\")\n",
    "        else :\n",
    "            print(\"number is odd\")\n",
    "if guesses_left > 0 : \n",
    "    print(\"You have\", guesses_left, \"guesses left.\")\n",
    "    print(\"\\tBetter Luck Next time!\")\n",
    "print(\"Previous guesses:\", previous_guesses)\n"
   ]
  },
  {
   "cell_type": "code",
   "execution_count": null,
   "id": "ac9e0d55",
   "metadata": {},
   "outputs": [],
   "source": []
  }
 ],
 "metadata": {
  "kernelspec": {
   "display_name": "Python 3 (ipykernel)",
   "language": "python",
   "name": "python3"
  },
  "language_info": {
   "codemirror_mode": {
    "name": "ipython",
    "version": 3
   },
   "file_extension": ".py",
   "mimetype": "text/x-python",
   "name": "python",
   "nbconvert_exporter": "python",
   "pygments_lexer": "ipython3",
   "version": "3.11.3"
  }
 },
 "nbformat": 4,
 "nbformat_minor": 5
}
